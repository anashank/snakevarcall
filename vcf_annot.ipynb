{
 "cells": [
  {
   "cell_type": "code",
   "execution_count": 1,
   "metadata": {},
   "outputs": [],
   "source": [
    "import pandas as pd\n",
    "#Replace < > with appropriate file names/ folder paths"
   ]
  },
  {
   "cell_type": "code",
   "execution_count": 4,
   "metadata": {},
   "outputs": [],
   "source": [
    "bamfile_metadata = pd.read_excel(\"<Path to TCGA data file with file IDs>\")"
   ]
  },
  {
   "cell_type": "code",
   "execution_count": 5,
   "metadata": {},
   "outputs": [],
   "source": [
    "fileids = bamfile_metadata['File ID']\n",
    "sample_ids = {}\n",
    "count = 0\n",
    "for f in fileids:\n",
    "    row = bamfile_metadata.loc[bamfile_metadata['File ID'] == f]\n",
    "    sample_ids[f] = row['Sample ID'][count] \n",
    "    count+=1\n"
   ]
  },
  {
   "cell_type": "code",
   "execution_count": 2,
   "metadata": {},
   "outputs": [
    {
     "name": "stdout",
     "output_type": "stream",
     "text": [
      "2520\n"
     ]
    }
   ],
   "source": [
    "import glob\n",
    "\n",
    "all_files = glob.glob(\"<path to filtered SNP vcf files>\")\n",
    "indel_files = glob.glob(\"<path to filtered indel vcf files>\")\n",
    "\n",
    "all_files.extend(indel_files)\n"
   ]
  },
  {
   "cell_type": "code",
   "execution_count": 3,
   "metadata": {},
   "outputs": [],
   "source": [
    "with open(\"<path to *.list file containing all variants>\", \"w\") as outfile:\n",
    "    outfile.write(\"\\n\".join(all_files))"
   ]
  },
  {
   "cell_type": "code",
   "execution_count": 9,
   "metadata": {},
   "outputs": [],
   "source": [
    "row_list = []\n",
    "\n",
    "for file in all_files:\n",
    "    with open(file) as f:\n",
    "        for line in f:\n",
    "            if not(line.startswith('#')):\n",
    "                variant = line.strip().split(\"\\t\")\n",
    "                chrom = variant[0]\n",
    "                pos = variant[1]\n",
    "                ref = variant[3]\n",
    "                alt = variant[4]\n",
    "                f = variant[-1].split(\":\")\n",
    "                vcf_file = file.strip().split('/')\n",
    "                file_id = vcf_file[2].split('_')\n",
    "                sample_id = sample_ids[file_id[1]]\n",
    "                freq = f[6]\n",
    "                row = [chrom,pos,ref,alt,freq,sample_id]\n",
    "                row_list.append(row)\n",
    "            \n",
    "var_df = pd.DataFrame(row_list)\n",
    "var_df.columns = ['chr','pos','ref','alt','freq','sample_id']\n",
    "\n",
    "\n"
   ]
  },
  {
   "cell_type": "code",
   "execution_count": 11,
   "metadata": {},
   "outputs": [],
   "source": [
    "#To store variant allele frequencies corresponding to each sample \n",
    "allele_freq = {}\n",
    "\n",
    "for r in range(len(var_df)):\n",
    "    row = var_df.iloc[r]\n",
    "    key_list = [row['chr'],row['pos'],row['ref'],row['alt']]\n",
    "    key = \"-\".join(key_list)\n",
    "    if key not in allele_freq:\n",
    "        allele_freq[key] = []\n",
    "        allele_freq[key].append((row['sample_id'],row['freq']))\n",
    "    else:\n",
    "        allele_freq[key].append((row['sample_id'],row['freq']))\n",
    "\n"
   ]
  },
  {
   "cell_type": "code",
   "execution_count": 12,
   "metadata": {},
   "outputs": [],
   "source": [
    "final_df = pd.DataFrame(columns = list(set(sample_ids.values())))\n",
    "final_df.insert(0,'variant',allele_freq.keys())\n",
    "for i,var in enumerate(allele_freq):\n",
    "    for id_freq in allele_freq[var]:\n",
    "        final_df.at[i, id_freq[0]] = id_freq[1]\n",
    "\n"
   ]
  },
  {
   "cell_type": "code",
   "execution_count": 13,
   "metadata": {},
   "outputs": [],
   "source": [
    "final_df[['Chr','Pos','Ref','Alt']] = final_df.variant.str.split(pat='-',expand=True)\n",
    "cols = final_df.columns.tolist()\n",
    "new_cols = cols[-4:] + cols[1:len(cols)-4]\n",
    "final_df = final_df[new_cols]\n",
    "final_df = final_df.fillna('')\n",
    "\n",
    "final_df.sort_values(by=['Pos'],inplace=True)\n",
    "final_df = final_df.reset_index(drop=True)\n",
    "final_df.to_excel(\"<path to variants excel file\")"
   ]
  },
  {
   "cell_type": "code",
   "execution_count": null,
   "metadata": {},
   "outputs": [],
   "source": [
    "#Scripts to run to generate vcf file with unique variants\n",
    "\n",
    "'''\n",
    "Install picard tools and run the following command\n",
    "\n",
    "java -jar picard.jar MergeVcfs \\\n",
    "          I=input_variant_files.list \\\n",
    "          O=output_variants.vcf.gz \\\n",
    "          D=chr11.dict\n",
    "\n",
    "Install vcflib and run vcfstreamsort on output vcf file, followed by vcfuniq\n",
    "\n",
    "Link to repository for details: https://github.com/vcflib/vcflib\n",
    "'''\n",
    "\n",
    "row_list = []\n",
    "with open('<path to vcf file with unique variants>') as f:\n",
    "    for line in f:\n",
    "        if not(line.startswith('#')):\n",
    "            variant = line.strip().split(\"\\t\")\n",
    "            chrom = variant[0]\n",
    "            pos = variant[1]\n",
    "            ref = variant[3]\n",
    "            alt = variant[4]\n",
    "            row = [chrom,pos,ref,alt]\n",
    "            row_list.append(row)\n",
    "ann_df = pd.DataFrame(row_list)\n",
    "\n"
   ]
  },
  {
   "cell_type": "code",
   "execution_count": 16,
   "metadata": {},
   "outputs": [],
   "source": [
    "vcf_data = pd.read_csv('cc/merged_cc_uniq.ann.vcf',sep='\\t',comment='#',header=None)\n",
    "vcf_data.columns = ['chr','pos','1','ref','alt','2','filter','info','extra','values']"
   ]
  },
  {
   "cell_type": "code",
   "execution_count": 17,
   "metadata": {},
   "outputs": [
    {
     "data": {
      "text/plain": [
       "'GT:GQ:SDP:DP:RD:AD:FREQ:PVAL:RBQ:ABQ:RDF:RDR:ADF:ADR'"
      ]
     },
     "execution_count": 17,
     "metadata": {},
     "output_type": "execute_result"
    }
   ],
   "source": [
    "vcf_data['extra'][0]"
   ]
  },
  {
   "cell_type": "code",
   "execution_count": 18,
   "metadata": {},
   "outputs": [],
   "source": [
    "info = vcf_data['info'].str.split(';',expand = True)"
   ]
  },
  {
   "cell_type": "code",
   "execution_count": 19,
   "metadata": {},
   "outputs": [],
   "source": [
    "info2 = info[5].str.split('|',expand = True)"
   ]
  },
  {
   "cell_type": "code",
   "execution_count": null,
   "metadata": {},
   "outputs": [],
   "source": [
    "vcf_data"
   ]
  },
  {
   "cell_type": "code",
   "execution_count": 21,
   "metadata": {},
   "outputs": [
    {
     "data": {
      "text/html": [
       "<div>\n",
       "<style scoped>\n",
       "    .dataframe tbody tr th:only-of-type {\n",
       "        vertical-align: middle;\n",
       "    }\n",
       "\n",
       "    .dataframe tbody tr th {\n",
       "        vertical-align: top;\n",
       "    }\n",
       "\n",
       "    .dataframe thead th {\n",
       "        text-align: right;\n",
       "    }\n",
       "</style>\n",
       "<table border=\"1\" class=\"dataframe\">\n",
       "  <thead>\n",
       "    <tr style=\"text-align: right;\">\n",
       "      <th></th>\n",
       "      <th>sequence ontology</th>\n",
       "      <th>gene name</th>\n",
       "      <th>exon rank/number</th>\n",
       "      <th>HGVS.p</th>\n",
       "      <th>AA change</th>\n",
       "    </tr>\n",
       "  </thead>\n",
       "  <tbody>\n",
       "    <tr>\n",
       "      <th>0</th>\n",
       "      <td>3_prime_UTR_variant</td>\n",
       "      <td>PPP2R1B</td>\n",
       "      <td>16/16</td>\n",
       "      <td>c.*20_*21delGA</td>\n",
       "      <td></td>\n",
       "    </tr>\n",
       "    <tr>\n",
       "      <th>1</th>\n",
       "      <td>missense_variant</td>\n",
       "      <td>PPP2R1B</td>\n",
       "      <td>16/16</td>\n",
       "      <td>c.2000A&gt;T</td>\n",
       "      <td>p.Asp667Val</td>\n",
       "    </tr>\n",
       "    <tr>\n",
       "      <th>2</th>\n",
       "      <td>frameshift_variant</td>\n",
       "      <td>PPP2R1B</td>\n",
       "      <td>16/16</td>\n",
       "      <td>c.1931delG</td>\n",
       "      <td>p.Arg644fs</td>\n",
       "    </tr>\n",
       "    <tr>\n",
       "      <th>3</th>\n",
       "      <td>downstream_gene_variant</td>\n",
       "      <td>SIK2</td>\n",
       "      <td></td>\n",
       "      <td>c.*2955G&gt;A</td>\n",
       "      <td></td>\n",
       "    </tr>\n",
       "    <tr>\n",
       "      <th>4</th>\n",
       "      <td>downstream_gene_variant</td>\n",
       "      <td>SIK2</td>\n",
       "      <td></td>\n",
       "      <td>c.*3048C&gt;T</td>\n",
       "      <td></td>\n",
       "    </tr>\n",
       "    <tr>\n",
       "      <th>...</th>\n",
       "      <td>...</td>\n",
       "      <td>...</td>\n",
       "      <td>...</td>\n",
       "      <td>...</td>\n",
       "      <td>...</td>\n",
       "    </tr>\n",
       "    <tr>\n",
       "      <th>72</th>\n",
       "      <td>intron_variant</td>\n",
       "      <td>PPP2R1B</td>\n",
       "      <td>1/15</td>\n",
       "      <td>c.115-95C&gt;A</td>\n",
       "      <td></td>\n",
       "    </tr>\n",
       "    <tr>\n",
       "      <th>73</th>\n",
       "      <td>intron_variant</td>\n",
       "      <td>PPP2R1B</td>\n",
       "      <td>1/15</td>\n",
       "      <td>c.114+108A&gt;G</td>\n",
       "      <td></td>\n",
       "    </tr>\n",
       "    <tr>\n",
       "      <th>74</th>\n",
       "      <td>intron_variant</td>\n",
       "      <td>PPP2R1B</td>\n",
       "      <td>1/15</td>\n",
       "      <td>c.114+69G&gt;C</td>\n",
       "      <td></td>\n",
       "    </tr>\n",
       "    <tr>\n",
       "      <th>75</th>\n",
       "      <td>intron_variant</td>\n",
       "      <td>PPP2R1B</td>\n",
       "      <td>1/15</td>\n",
       "      <td>c.114+22C&gt;G</td>\n",
       "      <td></td>\n",
       "    </tr>\n",
       "    <tr>\n",
       "      <th>76</th>\n",
       "      <td>synonymous_variant</td>\n",
       "      <td>PPP2R1B</td>\n",
       "      <td>1/16</td>\n",
       "      <td>c.66A&gt;G</td>\n",
       "      <td>p.Leu22Leu</td>\n",
       "    </tr>\n",
       "  </tbody>\n",
       "</table>\n",
       "<p>77 rows × 5 columns</p>\n",
       "</div>"
      ],
      "text/plain": [
       "          sequence ontology gene name exon rank/number          HGVS.p  \\\n",
       "0       3_prime_UTR_variant   PPP2R1B            16/16  c.*20_*21delGA   \n",
       "1          missense_variant   PPP2R1B            16/16       c.2000A>T   \n",
       "2        frameshift_variant   PPP2R1B            16/16      c.1931delG   \n",
       "3   downstream_gene_variant      SIK2                       c.*2955G>A   \n",
       "4   downstream_gene_variant      SIK2                       c.*3048C>T   \n",
       "..                      ...       ...              ...             ...   \n",
       "72           intron_variant   PPP2R1B             1/15     c.115-95C>A   \n",
       "73           intron_variant   PPP2R1B             1/15    c.114+108A>G   \n",
       "74           intron_variant   PPP2R1B             1/15     c.114+69G>C   \n",
       "75           intron_variant   PPP2R1B             1/15     c.114+22C>G   \n",
       "76       synonymous_variant   PPP2R1B             1/16         c.66A>G   \n",
       "\n",
       "      AA change  \n",
       "0                \n",
       "1   p.Asp667Val  \n",
       "2    p.Arg644fs  \n",
       "3                \n",
       "4                \n",
       "..          ...  \n",
       "72               \n",
       "73               \n",
       "74               \n",
       "75               \n",
       "76   p.Leu22Leu  \n",
       "\n",
       "[77 rows x 5 columns]"
      ]
     },
     "execution_count": 21,
     "metadata": {},
     "output_type": "execute_result"
    }
   ],
   "source": [
    "to_add = info2[[1,3,8,9,10]]\n",
    "to_add.columns = ['sequence ontology','gene name','exon rank/number','HGVS.p','AA change']\n",
    "to_add"
   ]
  },
  {
   "cell_type": "code",
   "execution_count": 23,
   "metadata": {},
   "outputs": [],
   "source": [
    "cc_data = pd.read_excel('CC_germline_ppp2r1b.xlsx')"
   ]
  },
  {
   "cell_type": "code",
   "execution_count": 24,
   "metadata": {},
   "outputs": [],
   "source": [
    "cc_data_new = pd.concat([cc_data, to_add], axis=1)"
   ]
  },
  {
   "cell_type": "code",
   "execution_count": 25,
   "metadata": {},
   "outputs": [],
   "source": [
    "cc_data_new.to_excel('CC_germline_ppp2r1b_final.xlsx')"
   ]
  },
  {
   "cell_type": "code",
   "execution_count": null,
   "metadata": {},
   "outputs": [],
   "source": []
  }
 ],
 "metadata": {
  "kernelspec": {
   "display_name": "Python 3",
   "language": "python",
   "name": "python3"
  },
  "language_info": {
   "codemirror_mode": {
    "name": "ipython",
    "version": 3
   },
   "file_extension": ".py",
   "mimetype": "text/x-python",
   "name": "python",
   "nbconvert_exporter": "python",
   "pygments_lexer": "ipython3",
   "version": "3.7.5"
  }
 },
 "nbformat": 4,
 "nbformat_minor": 4
}
